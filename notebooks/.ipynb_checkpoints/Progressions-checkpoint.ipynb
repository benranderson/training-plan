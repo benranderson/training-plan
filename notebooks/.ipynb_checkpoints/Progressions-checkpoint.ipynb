{
 "cells": [
  {
   "cell_type": "markdown",
   "metadata": {},
   "source": [
    "# Training Plan Progressions"
   ]
  },
  {
   "cell_type": "code",
   "execution_count": 19,
   "metadata": {
    "collapsed": true
   },
   "outputs": [],
   "source": [
    "from datetime import date, timedelta\n",
    "import types\n",
    "from collections import namedtuple"
   ]
  },
  {
   "cell_type": "markdown",
   "metadata": {},
   "source": [
    "## Helper Functions"
   ]
  },
  {
   "cell_type": "code",
   "execution_count": 20,
   "metadata": {
    "collapsed": true
   },
   "outputs": [],
   "source": [
    "def determine_next_weekday(now, weekday):\n",
    "    '''\n",
    "    datetime, int -> datetime\n",
    "    '''\n",
    "    days_ahead = weekday - now.weekday() + 7\n",
    "    return now + timedelta(days_ahead)"
   ]
  },
  {
   "cell_type": "code",
   "execution_count": 21,
   "metadata": {
    "collapsed": true
   },
   "outputs": [],
   "source": [
    "def plan_range(start_date, num_weeks, start_week, step):\n",
    "    '''\n",
    "    Generator function to return week type, i.e. progression, rest or race.\n",
    "    '''\n",
    "    for wk in range(start_week, num_weeks, step):\n",
    "        date = start_date + timedelta(weeks=wk)\n",
    "        if wk == (num_weeks - 1):\n",
    "            week_type = 'race'\n",
    "        elif rest_week(wk, num_weeks):\n",
    "            week_type = 'rest'\n",
    "        else:\n",
    "            week_type = 'prog'\n",
    "        yield (wk, date, week_type)"
   ]
  },
  {
   "cell_type": "code",
   "execution_count": 22,
   "metadata": {
    "collapsed": true
   },
   "outputs": [],
   "source": [
    "def week_type(week, length):\n",
    "    if wk == (length - 1):\n",
    "        return 'race'\n",
    "    elif rest_week(week, length):\n",
    "        return 'rest'\n",
    "    else:\n",
    "        return 'prog'"
   ]
  },
  {
   "cell_type": "code",
   "execution_count": 23,
   "metadata": {
    "collapsed": true
   },
   "outputs": [],
   "source": [
    "def rest_week(week, plan_length):\n",
    "    '''\n",
    "    int -> boolean\n",
    "\n",
    "    Determine if current week is a rest week.\n",
    "\n",
    "    Plans work on a 4 week block, with every 4th week being an easier week.\n",
    "    Runner has at least 2 weeks, and a maximum of 5 weeks before they get an\n",
    "    easier week.  So if they were on a 6 week plan they would only have an\n",
    "    easier week on race week.\n",
    "\n",
    "    Returns True if rest week and False if progression week.\n",
    "    '''\n",
    "    build_up = plan_length % 4\n",
    "    if week <= build_up and build_up < 3:\n",
    "        return False\n",
    "    elif (week - build_up + 1) % 4 == 0:\n",
    "        return True\n",
    "    else:\n",
    "        return False"
   ]
  },
  {
   "cell_type": "code",
   "execution_count": 24,
   "metadata": {
    "collapsed": true
   },
   "outputs": [],
   "source": [
    "def rest_pc_or_abs(week_cut, dur):\n",
    "    '''\n",
    "    Return rest week duration based on whether rest duration reduction is applied as an absolute\n",
    "    or % value\n",
    "    '''\n",
    "    if isinstance(week_cut, str):\n",
    "        return (float(week_cut.strip('%')) / 100) * dur\n",
    "    else:\n",
    "        return dur - week_cut"
   ]
  },
  {
   "cell_type": "markdown",
   "metadata": {},
   "source": [
    "## Base Classes"
   ]
  },
  {
   "cell_type": "code",
   "execution_count": 25,
   "metadata": {
    "collapsed": true
   },
   "outputs": [],
   "source": [
    "class Exercise:\n",
    "\n",
    "    def __init__(self, description, duration):\n",
    "        self.description = description\n",
    "        self.duration = duration\n",
    "    \n",
    "    def __repr__(self):\n",
    "        '''\n",
    "        Return a more human-readable representation\n",
    "        '''\n",
    "        return '{0}({1})'.format(self.description, self.duration)\n",
    "\n",
    "    @staticmethod\n",
    "    def mins_to_seconds_formatter(dur_in_mins):\n",
    "        '''\n",
    "        Return duration nicely formatted minutes based on value in seconds\n",
    "        '''\n",
    "        return \"{}s\".format(int(dur_in_mins * 60))"
   ]
  },
  {
   "cell_type": "code",
   "execution_count": 26,
   "metadata": {
    "collapsed": true
   },
   "outputs": [],
   "source": [
    "class WorkoutSet:\n",
    "\n",
    "    def __init__(self, reps):\n",
    "        self.reps = reps\n",
    "        self.exercises = []\n",
    "        self._duration = 0\n",
    "\n",
    "    def __repr__(self):\n",
    "        '''\n",
    "        Return a more human-readable representation\n",
    "        '''\n",
    "        ex = ', '.join(str(exercise) for exercise in self.exercises)\n",
    "        return '{0}x ({1})'.format(self.reps, ex)\n",
    "\n",
    "    @property\n",
    "    def duration(self):\n",
    "        return self.reps * self._duration\n",
    "\n",
    "    def add_exercise(self, exercise):\n",
    "        self.exercises.append(exercise)\n",
    "        self._duration += exercise.duration"
   ]
  },
  {
   "cell_type": "code",
   "execution_count": 85,
   "metadata": {
    "collapsed": true
   },
   "outputs": [],
   "source": [
    "class Workout:\n",
    "    '''\n",
    "    Represents a workout session\n",
    "    '''\n",
    "\n",
    "    formatting_dict = {\n",
    "        'Event Day': {'color': '#001F3F',\n",
    "                      'textColor': 'hsla(210, 100%, 75%, 1.0)'},\n",
    "        'RunEasy': {'color': '#2ECC40',\n",
    "                    'textColor': 'hsla(127, 63%, 15%, 1.0)'},\n",
    "        'Intervals': {'color': '#FF4136',\n",
    "                      'textColor': 'hsla(3, 100%, 25%, 1.0)'},\n",
    "        'Hillsprint': {'color': '#FFDC00',\n",
    "                       'textColor': 'hsla(52, 100%, 20%, 1.0)'},\n",
    "        'Tempo': {'color': '#0074D9',\n",
    "                  'textColor': 'hsla(208, 100%, 85%, 1.0)'}\n",
    "    }\n",
    "\n",
    "    def __init__(self, date, title):\n",
    "        self.date = date\n",
    "        self.title = title\n",
    "        self.duration = 0\n",
    "        self.workoutsets = []\n",
    "\n",
    "    def __repr__(self):\n",
    "        '''\n",
    "        Return a more human-readable representation\n",
    "        '''\n",
    "        return '{0} - {1}'.format(self.date.strftime('%d %b %Y'),\n",
    "                                  self.title)\n",
    "\n",
    "    def __str__(self):\n",
    "        '''\n",
    "        Return a more human-readable representation\n",
    "        '''\n",
    "        # TODO: add if for EventDay\n",
    "        ws = '\\n'.join('{0}x {1}'.format(workoutset.reps,\n",
    "                                         workoutset.exercises) for workoutset in self.workoutsets)\n",
    "        return '{0}\\n{1}'.format(self.title, ws)\n",
    "\n",
    "    @property\n",
    "    def color(self):\n",
    "        return self.formatting_dict[self.title]['color']\n",
    "\n",
    "    @property\n",
    "    def textColor(self):\n",
    "        return self.formatting_dict[self.title]['textColor']\n",
    "\n",
    "    def add_workoutset(self, workoutset):\n",
    "        self.workoutsets.append(workoutset)\n",
    "        self.duration += workoutset.duration"
   ]
  },
  {
   "cell_type": "markdown",
   "metadata": {},
   "source": [
    "## Progressions"
   ]
  },
  {
   "cell_type": "code",
   "execution_count": 86,
   "metadata": {},
   "outputs": [],
   "source": [
    "RuneasySettings = namedtuple('RuneasySettings', 'init_dur prog_freq rest race max_dur')\n",
    "IntervalSettings = namedtuple('IntervalSettings', 'init_dur prog_freq rest race max_dur')"
   ]
  },
  {
   "cell_type": "code",
   "execution_count": 87,
   "metadata": {},
   "outputs": [],
   "source": [
    "class Progression:\n",
    "    \n",
    "    def __init__(self, start_date, length, progressions):\n",
    "        self.start_date = start_date\n",
    "        self.length = length\n",
    "        self.sessions = []\n",
    "        \n",
    "        progress_dict = {\n",
    "            \"runeasy\": self.runeasy,\n",
    "            \"interval\": self.interval\n",
    "        }\n",
    "        \n",
    "        start = 0\n",
    "        step = len(progressions)\n",
    "        \n",
    "        for progression in progressions:\n",
    "            self.sessions += [wk for wk in progress_dict[progression[0]](start, step, progression[1])]     \n",
    "            start += 1  \n",
    "        \n",
    "        \n",
    "    def runeasy(self, start, step, settings):\n",
    "        '''\n",
    "        '''\n",
    "\n",
    "        wk = start\n",
    "\n",
    "        dur = settings.init_dur\n",
    "\n",
    "        while wk < self.length:\n",
    "            if week_type(wk, self.length) == 'prog':\n",
    "                if (wk + 1) % settings.prog_freq == 0 and dur < settings.max_dur:\n",
    "                    dur += 5\n",
    "                wk_dur = dur\n",
    "            elif week_type(wk, self.length) == 'rest':\n",
    "                wk_dur = rest_pc_or_abs(settings.rest, dur)\n",
    "            else:\n",
    "                wk_dur = rest_pc_or_abs(settings.race, dur)\n",
    "\n",
    "            # Build workout\n",
    "            date = self.start_date + timedelta(weeks=wk)\n",
    "            w = Workout(date, 'RunEasy')\n",
    "            ws = WorkoutSet(1)\n",
    "            e = Exercise('Easy', wk_dur)\n",
    "            ws.add_exercise(e)\n",
    "            w.add_workoutset(ws)           \n",
    "\n",
    "            yield w\n",
    "\n",
    "            wk += step\n",
    "    \n",
    "    def interval(self, start, step, settings):\n",
    "        '''\n",
    "        '''\n",
    "\n",
    "        wk = start\n",
    "\n",
    "        dur = settings.init_dur\n",
    "\n",
    "        while wk < self.length:\n",
    "            if week_type(wk, self.length) == 'prog':\n",
    "                if (wk + 1) % settings.prog_freq == 0 and dur < settings.max_dur:\n",
    "                    dur += 5\n",
    "                wk_dur = dur\n",
    "            elif week_type(wk, self.length) == 'rest':\n",
    "                wk_dur = rest_pc_or_abs(settings.rest, dur)\n",
    "            else:\n",
    "                wk_dur = rest_pc_or_abs(settings.race, dur)\n",
    "\n",
    "            # Build workout\n",
    "            date = self.start_date + timedelta(weeks=wk)\n",
    "            w = Workout(date, 'Interval')\n",
    "            ws = WorkoutSet(1)\n",
    "            e = Exercise('Easy', wk_dur)\n",
    "            ws.add_exercise(e)\n",
    "            w.add_workoutset(ws)           \n",
    "\n",
    "            yield w\n",
    "\n",
    "            wk += step"
   ]
  },
  {
   "cell_type": "markdown",
   "metadata": {},
   "source": [
    "### Runeasy"
   ]
  },
  {
   "cell_type": "markdown",
   "metadata": {},
   "source": [
    "## Interval"
   ]
  },
  {
   "cell_type": "code",
   "execution_count": 88,
   "metadata": {},
   "outputs": [],
   "source": [
    "class Plan:\n",
    "    '''\n",
    "    Represents running training plan for prescribed event and level.\n",
    "    '''\n",
    "    \n",
    "    beginner = [\n",
    "            [(\"runeasy\", RuneasySettings(5, 1, 5, 5, 35))],\n",
    "            [(\"runeasy\", RuneasySettings(10, 1, 5, 5, 35)),\n",
    "             (\"interval\", RuneasySettings(25, 1, 5, 5, 35))],\n",
    "            [(\"runeasy\", RuneasySettings(30, 1, 5, 5, 35))]\n",
    "        ]\n",
    "\n",
    "    def __init__(self, start_date, event_date, event_title, level):\n",
    "        self.start_date = start_date\n",
    "        self._event_date = event_date\n",
    "        self.event_title = event_title\n",
    "        self.level = level\n",
    "\n",
    "        # Populate schedule with event\n",
    "        self.schedule = [Workout(self._event_date, 'Event Day')]\n",
    "\n",
    "    @property\n",
    "    def length(self):\n",
    "        '''\n",
    "        Length of the training plan in weeks\n",
    "        '''\n",
    "        return self.weeks_between_dates(self.start_date, self._event_date)\n",
    "\n",
    "    def create(self, days):\n",
    "        '''\n",
    "        Creates schedule based on ability level and training days\n",
    "        '''\n",
    "\n",
    "        def builder_dict(level, days):\n",
    "            level_dict = {\n",
    "                'Beginner': self.beginner_plan,\n",
    "                'Intermediate': self.intermediate_plan,\n",
    "                'Advanced': self.advanced_plan\n",
    "            }.get(level, None)\n",
    "            return level_dict(days)\n",
    "\n",
    "        self.schedule += builder_dict(self.level, days)\n",
    "\n",
    "    def __repr__(self):\n",
    "        '''\n",
    "        Return a more human-readable representation\n",
    "        '''\n",
    "\n",
    "        return \"{0} week {1} Plan for the {2}\".format(self.length,\n",
    "                                                      self.level,\n",
    "                                                      self.event_title)\n",
    "\n",
    "    @property\n",
    "    def event_date(self):\n",
    "        '''\n",
    "        Event date property, formatted as a string\n",
    "        '''\n",
    "        return self._event_date.strftime('%d %b %Y')\n",
    "\n",
    "    @staticmethod\n",
    "    def weeks_between_dates(start_date, end_date):\n",
    "        '''\n",
    "        Return the number of weeks between two dates\n",
    "        '''\n",
    "        return int((determine_next_weekday(end_date, 0) -\n",
    "                    determine_next_weekday(start_date, 0)).days / 7)\n",
    "\n",
    "    def beginner_plan(self, days):\n",
    "        raise NotImplementedError\n",
    "\n",
    "    def intermediate_plan(self, days):\n",
    "        raise NotImplementedError\n",
    "\n",
    "    def advanced_plan(self, days):\n",
    "        raise NotImplementedError"
   ]
  },
  {
   "cell_type": "code",
   "execution_count": 89,
   "metadata": {
    "collapsed": true
   },
   "outputs": [],
   "source": [
    "class Plan5k(Plan):\n",
    "\n",
    "    def beginner_plan(self, days):\n",
    "        '''\n",
    "        Return beginner plan schedule based on number of training days a week.\n",
    "        '''\n",
    "\n",
    "        details = [\n",
    "            [(\"runeasy\", RuneasySettings(5, 1, 5, 5, 35))],\n",
    "            [(\"runeasy\", RuneasySettings(10, 1, 5, 5, 35)),\n",
    "             (\"interval\", RuneasySettings(25, 1, 5, 5, 35))],\n",
    "            [(\"runeasy\", RuneasySettings(30, 1, 5, 5, 35))]\n",
    "        ]\n",
    "\n",
    "        schedule = []\n",
    "\n",
    "        for day, detail in zip(days, details):\n",
    "            session_start = determine_next_weekday(self.start_date, day)\n",
    "            p = Progression(session_start, self.length, detail)\n",
    "            schedule += p.sessions\n",
    "\n",
    "        return schedule\n",
    "\n",
    "    def intermediate_plan(self, days):\n",
    "        '''\n",
    "        '''\n",
    "\n",
    "        pass\n",
    "\n",
    "    def advanced_plan(self, days):\n",
    "        pass"
   ]
  },
  {
   "cell_type": "code",
   "execution_count": 90,
   "metadata": {},
   "outputs": [],
   "source": [
    "start_date = date(2017, 8, 25)\n",
    "event_date = start_date + timedelta(weeks=8)\n",
    "p = Plan5k(start_date, event_date, 'RACE DAY', 'Beginner')\n",
    "\n",
    "days = [0, 2, 4]\n",
    "p.create(days)"
   ]
  },
  {
   "cell_type": "code",
   "execution_count": 91,
   "metadata": {},
   "outputs": [
    {
     "name": "stdout",
     "output_type": "stream",
     "text": [
      "2017-10-20:\n",
      "Event Day\n",
      "\n",
      "\n",
      "2017-08-28:\n",
      "RunEasy\n",
      "1x [Easy(10)]\n",
      "\n",
      "2017-09-04:\n",
      "RunEasy\n",
      "1x [Easy(15)]\n",
      "\n",
      "2017-09-11:\n",
      "RunEasy\n",
      "1x [Easy(20)]\n",
      "\n",
      "2017-09-18:\n",
      "RunEasy\n",
      "1x [Easy(15)]\n",
      "\n",
      "2017-09-25:\n",
      "RunEasy\n",
      "1x [Easy(25)]\n",
      "\n",
      "2017-10-02:\n",
      "RunEasy\n",
      "1x [Easy(30)]\n",
      "\n",
      "2017-10-09:\n",
      "RunEasy\n",
      "1x [Easy(35)]\n",
      "\n",
      "2017-10-16:\n",
      "RunEasy\n",
      "1x [Easy(30)]\n",
      "\n",
      "2017-08-30:\n",
      "RunEasy\n",
      "1x [Easy(15)]\n",
      "\n",
      "2017-09-13:\n",
      "RunEasy\n",
      "1x [Easy(20)]\n",
      "\n",
      "2017-09-27:\n",
      "RunEasy\n",
      "1x [Easy(25)]\n",
      "\n",
      "2017-10-11:\n",
      "RunEasy\n",
      "1x [Easy(30)]\n",
      "\n",
      "2017-09-06:\n",
      "Interval\n",
      "1x [Easy(30)]\n",
      "\n",
      "2017-09-20:\n",
      "Interval\n",
      "1x [Easy(25)]\n",
      "\n",
      "2017-10-04:\n",
      "Interval\n",
      "1x [Easy(35)]\n",
      "\n",
      "2017-10-18:\n",
      "Interval\n",
      "1x [Easy(30)]\n",
      "\n",
      "2017-09-01:\n",
      "RunEasy\n",
      "1x [Easy(35)]\n",
      "\n",
      "2017-09-08:\n",
      "RunEasy\n",
      "1x [Easy(35)]\n",
      "\n",
      "2017-09-15:\n",
      "RunEasy\n",
      "1x [Easy(35)]\n",
      "\n",
      "2017-09-22:\n",
      "RunEasy\n",
      "1x [Easy(30)]\n",
      "\n",
      "2017-09-29:\n",
      "RunEasy\n",
      "1x [Easy(35)]\n",
      "\n",
      "2017-10-06:\n",
      "RunEasy\n",
      "1x [Easy(35)]\n",
      "\n",
      "2017-10-13:\n",
      "RunEasy\n",
      "1x [Easy(35)]\n",
      "\n",
      "2017-10-20:\n",
      "RunEasy\n",
      "1x [Easy(30)]\n",
      "\n"
     ]
    }
   ],
   "source": [
    "for wo in p.schedule:\n",
    "    print('{wo.date}:\\n{wo}\\n'.format(wo=wo))"
   ]
  },
  {
   "cell_type": "code",
   "execution_count": 92,
   "metadata": {},
   "outputs": [],
   "source": [
    "# def gen_1(maxi):\n",
    "#     i = 0\n",
    "#     dur = 5\n",
    "#     while True:\n",
    "#         yield \"Runeasy ({})\".format(dur)\n",
    "#         dur += 5\n",
    "#         i += 1\n",
    "\n",
    "# def gen_2(maxi):\n",
    "#     i = 0\n",
    "#     dur = 5\n",
    "#     while True:\n",
    "#         yield \"Intervals ({})\".format(dur)\n",
    "#         dur += 5\n",
    "#         i += 1\n",
    "\n",
    "def gen_1(start, step, length):\n",
    "    i = start\n",
    "    while i < length:\n",
    "        yield \"Runeasy ({})\".format(i)\n",
    "        i += step\n",
    "\n",
    "def gen_2(start, step, length):\n",
    "    i = start\n",
    "    while i < length:\n",
    "        yield \"Intervals ({})\".format(i)\n",
    "        i += step"
   ]
  },
  {
   "cell_type": "code",
   "execution_count": 3,
   "metadata": {
    "collapsed": true
   },
   "outputs": [],
   "source": [
    "from itertools import cycle"
   ]
  },
  {
   "cell_type": "code",
   "execution_count": 4,
   "metadata": {},
   "outputs": [],
   "source": [
    "length = 10\n",
    "schedule = []\n",
    "\n",
    "gens = [gen_1, gen_2]\n",
    "\n",
    "wk = 0\n",
    "start = 0\n",
    "step = len(gens)\n",
    "for gen in gens:\n",
    "    schedule += [wk for wk in gen(start, step, length)]     \n",
    "    start += 1\n",
    "    "
   ]
  },
  {
   "cell_type": "code",
   "execution_count": 5,
   "metadata": {},
   "outputs": [
    {
     "data": {
      "text/plain": [
       "['Runeasy (0)',\n",
       " 'Runeasy (2)',\n",
       " 'Runeasy (4)',\n",
       " 'Runeasy (6)',\n",
       " 'Runeasy (8)',\n",
       " 'Intervals (1)',\n",
       " 'Intervals (3)',\n",
       " 'Intervals (5)',\n",
       " 'Intervals (7)',\n",
       " 'Intervals (9)']"
      ]
     },
     "execution_count": 5,
     "metadata": {},
     "output_type": "execute_result"
    }
   ],
   "source": [
    "schedule"
   ]
  },
  {
   "cell_type": "code",
   "execution_count": null,
   "metadata": {},
   "outputs": [],
   "source": []
  },
  {
   "cell_type": "code",
   "execution_count": null,
   "metadata": {
    "collapsed": true
   },
   "outputs": [],
   "source": []
  },
  {
   "cell_type": "code",
   "execution_count": null,
   "metadata": {},
   "outputs": [],
   "source": [
    "\n"
   ]
  },
  {
   "cell_type": "code",
   "execution_count": null,
   "metadata": {},
   "outputs": [],
   "source": []
  },
  {
   "cell_type": "code",
   "execution_count": null,
   "metadata": {},
   "outputs": [],
   "source": []
  },
  {
   "cell_type": "code",
   "execution_count": null,
   "metadata": {
    "collapsed": true
   },
   "outputs": [],
   "source": []
  }
 ],
 "metadata": {
  "kernelspec": {
   "display_name": "Python 3",
   "language": "python",
   "name": "python3"
  }
 },
 "nbformat": 4,
 "nbformat_minor": 2
}
