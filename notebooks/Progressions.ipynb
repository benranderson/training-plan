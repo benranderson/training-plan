{
 "cells": [
  {
   "cell_type": "markdown",
   "metadata": {},
   "source": [
    "# Training Plan Progressions"
   ]
  },
  {
   "cell_type": "code",
   "execution_count": 82,
   "metadata": {
    "collapsed": true
   },
   "outputs": [],
   "source": [
    "from datetime import date, timedelta"
   ]
  },
  {
   "cell_type": "code",
   "execution_count": 95,
   "metadata": {
    "collapsed": true
   },
   "outputs": [],
   "source": [
    "def plan_week_range(start_date, num_weeks, start_week=0, step=1):\n",
    "    # ('prog', 'rest', 'race')\n",
    "    for wk in range(start_week, num_weeks, step):\n",
    "        date = start_date + timedelta(weeks=wk)\n",
    "        if wk == (num_weeks - 1):\n",
    "            week_type = 'race'\n",
    "        elif rest_week(wk, num_weeks):\n",
    "            week_type = 'rest'\n",
    "        else:\n",
    "            week_type = 'prog'\n",
    "        yield (wk, date, week_type)"
   ]
  },
  {
   "cell_type": "code",
   "execution_count": 96,
   "metadata": {
    "collapsed": true
   },
   "outputs": [],
   "source": [
    "def rest_week(week, plan_length):\n",
    "    '''\n",
    "    int -> boolean\n",
    "\n",
    "    Determine if current week is a rest week.\n",
    "\n",
    "    Plans work on a 4 week block, with every 4th week being an easier week.\n",
    "    Runner has at least 2 weeks, and a maximum of 5 weeks before they get an\n",
    "    easier week.  So if they were on a 6 week plan they would only have an\n",
    "    easier week on race week.\n",
    "\n",
    "    Returns True if rest week and False if progression week.\n",
    "    '''\n",
    "    build_up = plan_length % 4\n",
    "    if week <= build_up and build_up < 3:\n",
    "        return False\n",
    "    elif (week - build_up + 1) % 4 == 0:\n",
    "        return True\n",
    "    else:\n",
    "        return False"
   ]
  },
  {
   "cell_type": "markdown",
   "metadata": {},
   "source": [
    "## Base Classes"
   ]
  },
  {
   "cell_type": "code",
   "execution_count": 97,
   "metadata": {
    "collapsed": true
   },
   "outputs": [],
   "source": [
    "class Exercise:\n",
    "\n",
    "    def __init__(self, description, duration, intensity='Normal'):\n",
    "        self.description = description\n",
    "        self.duration = duration\n",
    "        self.intensity = intensity\n",
    "    \n",
    "    def __repr__(self):\n",
    "        '''\n",
    "        Return a more human-readable representation\n",
    "        '''\n",
    "        return '{0}({1})'.format(self.description, self.duration)\n",
    "\n",
    "    @staticmethod\n",
    "    def mins_to_seconds_formatter(dur_in_mins):\n",
    "        return \"{}s\".format(int(dur_in_mins * 60))"
   ]
  },
  {
   "cell_type": "code",
   "execution_count": 98,
   "metadata": {},
   "outputs": [],
   "source": [
    "class WorkoutSet:\n",
    "\n",
    "    def __init__(self, reps):\n",
    "        self.reps = reps\n",
    "        self.exercises = []\n",
    "        self._duration = 0\n",
    "\n",
    "    def __repr__(self):\n",
    "        '''\n",
    "        Return a more human-readable representation\n",
    "        '''\n",
    "        ex = ', '.join(str(exercise) for exercise in self.exercises)\n",
    "        return '{0}x ({1})'.format(self.reps, ex)\n",
    "\n",
    "    @property\n",
    "    def duration(self):\n",
    "        return self.reps * self._duration\n",
    "\n",
    "    def add_exercise(self, exercise):\n",
    "        self.exercises.append(exercise)\n",
    "        self._duration += exercise.duration"
   ]
  },
  {
   "cell_type": "code",
   "execution_count": 99,
   "metadata": {},
   "outputs": [],
   "source": [
    "class Workout:\n",
    "    '''\n",
    "    Represents a workout session\n",
    "    '''\n",
    "\n",
    "    formatting_dict = {\n",
    "        'Event Day': {'color': '#001F3F',\n",
    "                      'textColor': 'hsla(210, 100%, 75%, 1.0)'},\n",
    "        'RunEasy': {'color': '#2ECC40',\n",
    "                    'textColor': 'hsla(127, 63%, 15%, 1.0)'},\n",
    "        'Intervals': {'color': '#FF4136',\n",
    "                      'textColor': 'hsla(3, 100%, 25%, 1.0)'},\n",
    "        'Hillsprint': {'color': '#FFDC00',\n",
    "                       'textColor': 'hsla(52, 100%, 20%, 1.0)'},\n",
    "        'Tempo': {'color': '#0074D9',\n",
    "                  'textColor': 'hsla(208, 100%, 85%, 1.0)'}\n",
    "    }\n",
    "\n",
    "    def __init__(self, date, description):\n",
    "        self.date = date\n",
    "        self.description = description\n",
    "        self.duration = 0\n",
    "        self.workoutsets = []\n",
    "\n",
    "    def __repr__(self):\n",
    "        '''\n",
    "        Return a more human-readable representation\n",
    "        '''\n",
    "        return '{0} - {1}'.format(self.date.strftime('%d %b %Y'),\n",
    "                                  self.description)\n",
    "\n",
    "    def __str__(self):\n",
    "        '''\n",
    "        Return a more human-readable representation\n",
    "        '''\n",
    "        # TODO: add if for EventDay\n",
    "        ws = '\\n'.join('{0}x {1}'.format(workoutset.reps,\n",
    "                                         workoutset.exercises) for workoutset in self.workoutsets)\n",
    "        return '{0}\\n{1}'.format(self.description, ws)\n",
    "\n",
    "    @property\n",
    "    def color(self):\n",
    "        return self.formatting_dict[self.description]['color']\n",
    "\n",
    "    @property\n",
    "    def textColor(self):\n",
    "        return self.formatting_dict[self.description]['textColor']\n",
    "\n",
    "    def add_workoutset(self, workoutset):\n",
    "        self.workoutsets.append(workoutset)\n",
    "        self.duration += workoutset.duration"
   ]
  },
  {
   "cell_type": "code",
   "execution_count": 100,
   "metadata": {
    "collapsed": true
   },
   "outputs": [],
   "source": [
    "class Progression:\n",
    "    def __init__(self, start_date, length, start_week=0, step=1, func=None):\n",
    "        self.start_date = start_date\n",
    "        self.length = length\n",
    "        self.start_week = start_week\n",
    "        self.step = step\n",
    "        self.sessions = []\n",
    "\n",
    "        if func is not None:\n",
    "            self.create = types.MethodType(func, self)\n",
    "\n",
    "    def create(self):\n",
    "        raise NotImplementedError"
   ]
  },
  {
   "cell_type": "markdown",
   "metadata": {},
   "source": [
    "## Progression Functions"
   ]
  },
  {
   "cell_type": "code",
   "execution_count": 107,
   "metadata": {
    "collapsed": true
   },
   "outputs": [],
   "source": [
    "def create_runeasy(self, init_dur, prog_freq, rest_week_cut, max_dur):\n",
    "    '''\n",
    "    Return an easy running progression as a list of workouts\n",
    "    '''\n",
    "\n",
    "    dur = init_dur\n",
    "\n",
    "    def week_cut_version(week_cut, dur):\n",
    "        '''\n",
    "        Return rest week duration based on wether cut is applied as an absolute\n",
    "        or % value\n",
    "        '''\n",
    "        if isinstance(week_cut, str):\n",
    "            return (float(week_cut.strip('%')) / 100) * dur\n",
    "        else:\n",
    "            return dur - week_cut\n",
    "\n",
    "    for wk, date, wk_type in plan_week_range(self.start_date, self.length):\n",
    "        if wk_type == 'prog':\n",
    "            if (wk + 1) % prog_freq == 0 and dur < max_dur:\n",
    "                dur += 5\n",
    "            wk_dur = dur\n",
    "        elif wk_type == 'rest':\n",
    "            wk_dur = week_cut_version(rest_week_cut, dur)\n",
    "        else:\n",
    "            wk_dur = week_cut_version(race_week_cut, dur)\n",
    "\n",
    "        w = Workout(date, 'RunEasy')\n",
    "        ws = WorkoutSet(1)\n",
    "        e = Exercise('Easy', wk_dur)\n",
    "        ws.add_exercise(e)\n",
    "        w.add_workoutset(ws)\n",
    "        self.sessions.append(w)"
   ]
  },
  {
   "cell_type": "code",
   "execution_count": 108,
   "metadata": {
    "collapsed": true
   },
   "outputs": [],
   "source": [
    "import types"
   ]
  },
  {
   "cell_type": "code",
   "execution_count": 112,
   "metadata": {},
   "outputs": [],
   "source": [
    "start_date = date(2017, 8, 25)\n",
    "length = 8\n",
    "start_week = 0\n",
    "step = 1\n",
    "func = create_runeasy\n",
    "\n",
    "init_dur = 25\n",
    "prog_freq = 3\n",
    "rest_week_cut = 5\n",
    "race_week_cut = 10\n",
    "max_dur = 35"
   ]
  },
  {
   "cell_type": "code",
   "execution_count": 113,
   "metadata": {},
   "outputs": [],
   "source": [
    "p = Progression(start_date, length, start_week, step, func)"
   ]
  },
  {
   "cell_type": "code",
   "execution_count": 114,
   "metadata": {},
   "outputs": [],
   "source": [
    "p.create(init_dur, prog_freq, rest_week_cut, max_dur)"
   ]
  },
  {
   "cell_type": "code",
   "execution_count": 106,
   "metadata": {},
   "outputs": [
    {
     "data": {
      "text/plain": [
       "[25 Aug 2017 - RunEasy, 01 Sep 2017 - RunEasy, 08 Sep 2017 - RunEasy]"
      ]
     },
     "execution_count": 106,
     "metadata": {},
     "output_type": "execute_result"
    }
   ],
   "source": [
    "p.sessions"
   ]
  },
  {
   "cell_type": "code",
   "execution_count": null,
   "metadata": {
    "collapsed": true
   },
   "outputs": [],
   "source": []
  },
  {
   "cell_type": "code",
   "execution_count": null,
   "metadata": {
    "collapsed": true
   },
   "outputs": [],
   "source": []
  },
  {
   "cell_type": "code",
   "execution_count": null,
   "metadata": {
    "collapsed": true
   },
   "outputs": [],
   "source": []
  },
  {
   "cell_type": "code",
   "execution_count": null,
   "metadata": {
    "collapsed": true
   },
   "outputs": [],
   "source": []
  },
  {
   "cell_type": "code",
   "execution_count": null,
   "metadata": {
    "collapsed": true
   },
   "outputs": [],
   "source": []
  },
  {
   "cell_type": "code",
   "execution_count": null,
   "metadata": {
    "collapsed": true
   },
   "outputs": [],
   "source": []
  },
  {
   "cell_type": "code",
   "execution_count": null,
   "metadata": {
    "collapsed": true
   },
   "outputs": [],
   "source": []
  }
 ],
 "metadata": {
  "kernelspec": {
   "display_name": "Python 3",
   "language": "python",
   "name": "python3"
  },
  "language_info": {
   "codemirror_mode": {
    "name": "ipython",
    "version": 3
   },
   "file_extension": ".py",
   "mimetype": "text/x-python",
   "name": "python",
   "nbconvert_exporter": "python",
   "pygments_lexer": "ipython3",
   "version": "3.6.2"
  }
 },
 "nbformat": 4,
 "nbformat_minor": 2
}
